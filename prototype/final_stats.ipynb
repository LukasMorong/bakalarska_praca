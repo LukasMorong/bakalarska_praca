{
 "cells": [
  {
   "cell_type": "code",
   "execution_count": 1,
   "metadata": {},
   "outputs": [],
   "source": [
    "\"\"\"\n",
    "File name: final_stats.ipynb\n",
    "Author: Lukas Morong, xmoron01\n",
    "Year: 2023\n",
    "Description: Jupyter notebook for collecting final results and plot graphs\n",
    "\"\"\"\n",
    "\n",
    "import app\n",
    "import zipfile\n",
    "import json\n",
    "import sys\n",
    "import matplotlib.pyplot as plt\n",
    "import numpy as np\n",
    "\n",
    "vlabels = []\n",
    "vmins = []\n",
    "vmaxes = []\n",
    "vaverages = []\n",
    "\n",
    "glabels = []\n",
    "gmins = []\n",
    "gmaxes = []\n",
    "gaverages = []\n",
    "\n"
   ]
  },
  {
   "attachments": {},
   "cell_type": "markdown",
   "metadata": {},
   "source": [
    "## Transformation + entropy"
   ]
  },
  {
   "attachments": {},
   "cell_type": "markdown",
   "metadata": {},
   "source": [
    "### Not transformed, static 16bit"
   ]
  },
  {
   "cell_type": "code",
   "execution_count": 2,
   "metadata": {},
   "outputs": [
    {
     "name": "stdout",
     "output_type": "stream",
     "text": [
      "Original data bitlen: 19968.0\n"
     ]
    }
   ],
   "source": [
    "options = (0, 0)\n",
    "lenTmp = []\n",
    "\n",
    "for idx in range(10):\n",
    "    data_file = zipfile.ZipFile('./data/data.zip', 'r')\n",
    "    data = json.load(data_file.open(f'1661426400[{idx}]-ant121-skifiloc-ang170-iq.json', 'r'))\n",
    "\n",
    "    compressed = app.compress(data, data['ant'], options)\n",
    "\n",
    "    lenTmp.append(len(compressed))\n",
    "\n",
    "originalData = sum(lenTmp) / len(lenTmp)\n",
    "\n",
    "print(f'Original data bitlen: {originalData}')"
   ]
  },
  {
   "attachments": {},
   "cell_type": "markdown",
   "metadata": {},
   "source": [
    "### Not transformed, vlq"
   ]
  },
  {
   "cell_type": "code",
   "execution_count": 3,
   "metadata": {},
   "outputs": [
    {
     "name": "stdout",
     "output_type": "stream",
     "text": [
      "Average Space Saving: 12.812500000000004%\n",
      "Maximal Space Saving: 17.14743589743589%\n",
      "Minimal Space Saving: 11.217948717948723%\n"
     ]
    }
   ],
   "source": [
    "options = (0, 1)\n",
    "lenTmp = []\n",
    "\n",
    "for idx in range(10):\n",
    "    data_file = zipfile.ZipFile('./data/data.zip', 'r')\n",
    "    data = json.load(data_file.open(f'1661426400[{idx}]-ant121-skifiloc-ang170-iq.json', 'r'))\n",
    "\n",
    "    compressed = app.compress(data, data['ant'], options)\n",
    "\n",
    "    lenTmp.append(len(compressed))\n",
    "\n",
    "vmin = (1 - min(lenTmp) / originalData)*100\n",
    "vmax = (1 - max(lenTmp) / originalData)*100\n",
    "average = (1 - sum(lenTmp) / len(lenTmp) / originalData)*100\n",
    "\n",
    "vmins.append(vmin)\n",
    "vmaxes.append(vmax)\n",
    "vaverages.append(average)\n",
    "vlabels.append(\"none\")\n",
    "\n",
    "print(f'Average Space Saving: {average}%')\n",
    "print(f'Maximal Space Saving: {vmin}%')\n",
    "print(f'Minimal Space Saving: {vmax}%')"
   ]
  },
  {
   "attachments": {},
   "cell_type": "markdown",
   "metadata": {},
   "source": [
    "### Not transformed, rice-golomb coding"
   ]
  },
  {
   "cell_type": "code",
   "execution_count": 4,
   "metadata": {},
   "outputs": [
    {
     "name": "stdout",
     "output_type": "stream",
     "text": [
      "Average Space Saving: 38.62530048076923%\n",
      "Maximal Space Saving: 39.27784455128205%\n",
      "Minimal Space Saving: 38.30128205128205%\n"
     ]
    }
   ],
   "source": [
    "options = (0, 2)\n",
    "lenTmp = []\n",
    "\n",
    "for idx in range(10):\n",
    "    data_file = zipfile.ZipFile('./data/data.zip', 'r')\n",
    "    data = json.load(data_file.open(f'1661426400[{idx}]-ant121-skifiloc-ang170-iq.json', 'r'))\n",
    "\n",
    "    compressed = app.compress(data, data['ant'], options)\n",
    "\n",
    "    lenTmp.append(len(compressed))\n",
    "\n",
    "vmin = (1 - min(lenTmp) / originalData)*100\n",
    "vmax = (1 - max(lenTmp) / originalData)*100\n",
    "average = (1 - sum(lenTmp) / len(lenTmp) / originalData)*100\n",
    "\n",
    "gmins.append(vmin)\n",
    "gmaxes.append(vmax)\n",
    "gaverages.append(average)\n",
    "glabels.append(\"none\")\n",
    "\n",
    "print(f'Average Space Saving: {average}%')\n",
    "print(f'Maximal Space Saving: {vmin}%')\n",
    "print(f'Minimal Space Saving: {vmax}%')"
   ]
  },
  {
   "attachments": {},
   "cell_type": "markdown",
   "metadata": {},
   "source": [
    "### Delta coding, vlq"
   ]
  },
  {
   "cell_type": "code",
   "execution_count": 5,
   "metadata": {},
   "outputs": [
    {
     "name": "stdout",
     "output_type": "stream",
     "text": [
      "Average Space Saving: 25.969551282051285%\n",
      "Maximal Space Saving: 28.485576923076927%\n",
      "Minimal Space Saving: 24.879807692307686%\n"
     ]
    }
   ],
   "source": [
    "options = (1, 1)\n",
    "lenTmp = []\n",
    "\n",
    "for idx in range(10):\n",
    "    data_file = zipfile.ZipFile('./data/data.zip', 'r')\n",
    "    data = json.load(data_file.open(f'1661426400[{idx}]-ant121-skifiloc-ang170-iq.json', 'r'))\n",
    "\n",
    "    compressed = app.compress(data, data['ant'], options)\n",
    "\n",
    "    lenTmp.append(len(compressed))\n",
    "\n",
    "vmin = (1 - min(lenTmp) / originalData)*100\n",
    "vmax = (1 - max(lenTmp) / originalData)*100\n",
    "average = (1 - sum(lenTmp) / len(lenTmp) / originalData)*100\n",
    "\n",
    "vmins.append(vmin)\n",
    "vmaxes.append(vmax)\n",
    "vaverages.append(average)\n",
    "vlabels.append(\"delta\")\n",
    "\n",
    "print(f'Average Space Saving: {average}%')\n",
    "print(f'Maximal Space Saving: {vmin}%')\n",
    "print(f'Minimal Space Saving: {vmax}%')"
   ]
  },
  {
   "attachments": {},
   "cell_type": "markdown",
   "metadata": {},
   "source": [
    "### Delta coding, rice-golomb coding"
   ]
  },
  {
   "cell_type": "code",
   "execution_count": 6,
   "metadata": {},
   "outputs": [
    {
     "name": "stdout",
     "output_type": "stream",
     "text": [
      "Average Space Saving: 46.44431089743589%\n",
      "Maximal Space Saving: 47.60616987179487%\n",
      "Minimal Space Saving: 45.86338141025641%\n"
     ]
    }
   ],
   "source": [
    "options = (1, 2)\n",
    "lenTmp = []\n",
    "\n",
    "for idx in range(10):\n",
    "    data_file = zipfile.ZipFile('./data/data.zip', 'r')\n",
    "    data = json.load(data_file.open(f'1661426400[{idx}]-ant121-skifiloc-ang170-iq.json', 'r'))\n",
    "\n",
    "    compressed = app.compress(data, data['ant'], options)\n",
    "\n",
    "    lenTmp.append(len(compressed))\n",
    "\n",
    "vmin = (1 - min(lenTmp) / originalData)*100\n",
    "vmax = (1 - max(lenTmp) / originalData)*100\n",
    "average = (1 - sum(lenTmp) / len(lenTmp) / originalData)*100\n",
    "\n",
    "gmins.append(vmin)\n",
    "gmaxes.append(vmax)\n",
    "gaverages.append(average)\n",
    "glabels.append(\"delta\")\n",
    "\n",
    "print(f'Average Space Saving: {average}%')\n",
    "print(f'Maximal Space Saving: {vmin}%')\n",
    "print(f'Minimal Space Saving: {vmax}%')"
   ]
  },
  {
   "attachments": {},
   "cell_type": "markdown",
   "metadata": {},
   "source": [
    "### DeltaDelta coding, vlq"
   ]
  },
  {
   "cell_type": "code",
   "execution_count": 7,
   "metadata": {},
   "outputs": [
    {
     "name": "stdout",
     "output_type": "stream",
     "text": [
      "Average Space Saving: 47.32371794871795%\n",
      "Maximal Space Saving: 49.03846153846154%\n",
      "Minimal Space Saving: 45.993589743589745%\n"
     ]
    }
   ],
   "source": [
    "options = (2, 1)\n",
    "lenTmp = []\n",
    "\n",
    "for idx in range(10):\n",
    "    data_file = zipfile.ZipFile('./data/data.zip', 'r')\n",
    "    data = json.load(data_file.open(f'1661426400[{idx}]-ant121-skifiloc-ang170-iq.json', 'r'))\n",
    "\n",
    "    compressed = app.compress(data, data['ant'], options)\n",
    "\n",
    "    lenTmp.append(len(compressed))\n",
    "\n",
    "vmin = (1 - min(lenTmp) / originalData)*100\n",
    "vmax = (1 - max(lenTmp) / originalData)*100\n",
    "average = (1 - sum(lenTmp) / len(lenTmp) / originalData)*100\n",
    "\n",
    "vmins.append(vmin)\n",
    "vmaxes.append(vmax)\n",
    "vaverages.append(average)\n",
    "vlabels.append(\"deltadelta\")\n",
    "\n",
    "print(f'Average Space Saving: {average}%')\n",
    "print(f'Maximal Space Saving: {vmin}%')\n",
    "print(f'Minimal Space Saving: {vmax}%')"
   ]
  },
  {
   "attachments": {},
   "cell_type": "markdown",
   "metadata": {},
   "source": [
    "### DeltaDelta coding, rice-golomb coding"
   ]
  },
  {
   "cell_type": "code",
   "execution_count": 8,
   "metadata": {},
   "outputs": [
    {
     "name": "stdout",
     "output_type": "stream",
     "text": [
      "Average Space Saving: 53.46103766025641%\n",
      "Maximal Space Saving: 55.05809294871795%\n",
      "Minimal Space Saving: 52.594150641025635%\n"
     ]
    }
   ],
   "source": [
    "options = (2, 2)\n",
    "lenTmp = []\n",
    "\n",
    "for idx in range(10):\n",
    "    data_file = zipfile.ZipFile('./data/data.zip', 'r')\n",
    "    data = json.load(data_file.open(f'1661426400[{idx}]-ant121-skifiloc-ang170-iq.json', 'r'))\n",
    "\n",
    "    compressed = app.compress(data, data['ant'], options)\n",
    "\n",
    "    lenTmp.append(len(compressed))\n",
    "\n",
    "vmin = (1 - min(lenTmp) / originalData)*100\n",
    "vmax = (1 - max(lenTmp) / originalData)*100\n",
    "average = (1 - sum(lenTmp) / len(lenTmp) / originalData)*100\n",
    "\n",
    "gmins.append(vmin)\n",
    "gmaxes.append(vmax)\n",
    "gaverages.append(average)\n",
    "glabels.append(\"deltadelta\")\n",
    "\n",
    "print(f'Average Space Saving: {average}%')\n",
    "print(f'Maximal Space Saving: {vmin}%')\n",
    "print(f'Minimal Space Saving: {vmax}%')"
   ]
  },
  {
   "attachments": {},
   "cell_type": "markdown",
   "metadata": {},
   "source": [
    "### Predictive coding + deltadelta, vlq"
   ]
  },
  {
   "cell_type": "code",
   "execution_count": 9,
   "metadata": {},
   "outputs": [
    {
     "name": "stdout",
     "output_type": "stream",
     "text": [
      "Average Space Saving: 49.17868589743589%\n",
      "Maximal Space Saving: 49.39903846153846%\n",
      "Minimal Space Saving: 48.87820512820513%\n"
     ]
    }
   ],
   "source": [
    "options = (3, 1)\n",
    "lenTmp = []\n",
    "\n",
    "for idx in range(10):\n",
    "    data_file = zipfile.ZipFile('./data/data.zip', 'r')\n",
    "    data = json.load(data_file.open(f'1661426400[{idx}]-ant121-skifiloc-ang170-iq.json', 'r'))\n",
    "\n",
    "    compressed = app.compress(data, data['ant'], options)\n",
    "\n",
    "    lenTmp.append(len(compressed))\n",
    "\n",
    "vmin = (1 - min(lenTmp) / originalData)*100\n",
    "vmax = (1 - max(lenTmp) / originalData)*100\n",
    "average = (1 - sum(lenTmp) / len(lenTmp) / originalData)*100\n",
    "\n",
    "vmins.append(vmin)\n",
    "vmaxes.append(vmax)\n",
    "vaverages.append(average)\n",
    "vlabels.append(\"predictive\")\n",
    "\n",
    "print(f'Average Space Saving: {average}%')\n",
    "print(f'Maximal Space Saving: {vmin}%')\n",
    "print(f'Minimal Space Saving: {vmax}%')"
   ]
  },
  {
   "attachments": {},
   "cell_type": "markdown",
   "metadata": {},
   "source": [
    "### Predictive coding + deltadelta, rice-golomb"
   ]
  },
  {
   "cell_type": "code",
   "execution_count": 10,
   "metadata": {},
   "outputs": [
    {
     "name": "stdout",
     "output_type": "stream",
     "text": [
      "Average Space Saving: 58.18108974358975%\n",
      "Maximal Space Saving: 59.95092147435898%\n",
      "Minimal Space Saving: 56.66065705128205%\n"
     ]
    }
   ],
   "source": [
    "options = (3, 2)\n",
    "lenTmp = []\n",
    "\n",
    "for idx in range(10):\n",
    "    data_file = zipfile.ZipFile('./data/data.zip', 'r')\n",
    "    data = json.load(data_file.open(f'1661426400[{idx}]-ant121-skifiloc-ang170-iq.json', 'r'))\n",
    "\n",
    "    compressed = app.compress(data, data['ant'], options)\n",
    "\n",
    "    lenTmp.append(len(compressed))\n",
    "\n",
    "vmin = (1 - min(lenTmp) / originalData)*100\n",
    "vmax = (1 - max(lenTmp) / originalData)*100\n",
    "average = (1 - sum(lenTmp) / len(lenTmp) / originalData)*100\n",
    "\n",
    "gmins.append(vmin)\n",
    "gmaxes.append(vmax)\n",
    "gaverages.append(average)\n",
    "glabels.append(\"predictive\")\n",
    "\n",
    "print(f'Average Space Saving: {average}%')\n",
    "print(f'Maximal Space Saving: {vmin}%')\n",
    "print(f'Minimal Space Saving: {vmax}%')"
   ]
  },
  {
   "attachments": {},
   "cell_type": "markdown",
   "metadata": {},
   "source": [
    "### Experimental + deltadelta, VLQ"
   ]
  },
  {
   "cell_type": "code",
   "execution_count": 11,
   "metadata": {},
   "outputs": [
    {
     "name": "stdout",
     "output_type": "stream",
     "text": [
      "Average Space Saving: 49.45913461538461%\n",
      "Maximal Space Saving: 49.879807692307686%\n",
      "Minimal Space Saving: 49.15865384615385%\n"
     ]
    }
   ],
   "source": [
    "options = (4, 1)\n",
    "lenTmp = []\n",
    "\n",
    "for idx in range(10):\n",
    "    data_file = zipfile.ZipFile('./data/data.zip', 'r')\n",
    "    data = json.load(data_file.open(f'1661426400[{idx}]-ant121-skifiloc-ang170-iq.json', 'r'))\n",
    "\n",
    "    compressed = app.compress(data, data['ant'], options)\n",
    "\n",
    "    lenTmp.append(len(compressed))\n",
    "\n",
    "vmin = (1 - min(lenTmp) / originalData)*100\n",
    "vmax = (1 - max(lenTmp) / originalData)*100\n",
    "average = (1 - sum(lenTmp) / len(lenTmp) / originalData)*100\n",
    "\n",
    "vmins.append(vmin)\n",
    "vmaxes.append(vmax)\n",
    "vaverages.append(average)\n",
    "vlabels.append(\"experimental\")\n",
    "\n",
    "print(f'Average Space Saving: {average}%')\n",
    "print(f'Maximal Space Saving: {vmin}%')\n",
    "print(f'Minimal Space Saving: {vmax}%')"
   ]
  },
  {
   "attachments": {},
   "cell_type": "markdown",
   "metadata": {},
   "source": [
    "### Experimental + deltadelta, rice-golomb"
   ]
  },
  {
   "cell_type": "code",
   "execution_count": 12,
   "metadata": {},
   "outputs": [
    {
     "name": "stdout",
     "output_type": "stream",
     "text": [
      "Average Space Saving: 59.46714743589743%\n",
      "Maximal Space Saving: 61.518429487179496%\n",
      "Minimal Space Saving: 58.68890224358974%\n"
     ]
    }
   ],
   "source": [
    "options = (4, 2)\n",
    "lenTmp = []\n",
    "\n",
    "for idx in range(10):\n",
    "    data_file = zipfile.ZipFile('./data/data.zip', 'r')\n",
    "    data = json.load(data_file.open(f'1661426400[{idx}]-ant121-skifiloc-ang170-iq.json', 'r'))\n",
    "\n",
    "    compressed = app.compress(data, data['ant'], options)\n",
    "\n",
    "    lenTmp.append(len(compressed))\n",
    "\n",
    "vmin = (1 - min(lenTmp) / originalData)*100\n",
    "vmax = (1 - max(lenTmp) / originalData)*100\n",
    "average = (1 - sum(lenTmp) / len(lenTmp) / originalData)*100\n",
    "\n",
    "gmins.append(vmin)\n",
    "gmaxes.append(vmax)\n",
    "gaverages.append(average)\n",
    "glabels.append(\"experimental\")\n",
    "\n",
    "print(f'Average Space Saving: {average}%')\n",
    "print(f'Maximal Space Saving: {vmin}%')\n",
    "print(f'Minimal Space Saving: {vmax}%')"
   ]
  },
  {
   "cell_type": "code",
   "execution_count": 13,
   "metadata": {},
   "outputs": [
    {
     "data": {
      "image/png": "[encoded data removed]",
      "text/plain": [
       "<Figure size 1200x700 with 1 Axes>"
      ]
     },
     "metadata": {},
     "output_type": "display_data"
    }
   ],
   "source": [
    "difference = [x - y for x, y in zip(vmins, vmaxes)]\n",
    "\n",
    "plt.figure(figsize=(12, 7))\n",
    "plt.title('Porovnanie metód pri VLQ kódovaní')\n",
    "plt.xticks(range(len(vlabels)), vlabels)\n",
    "plt.errorbar(np.arange(len(vaverages)), vaverages, difference, fmt='o', lw=1, capsize=5, color='k')\n",
    "plt.plot(vaverages, color='k')\n",
    "\n",
    "for i, value in enumerate(vaverages):\n",
    "    plt.text(i, value+1, str(round(value, 2)), ha='right') # The 'ha' argument aligns the text.\n",
    "\n",
    "plt.ylabel('Úspora miesta[%]')\n",
    "\n",
    "plt.show()"
   ]
  },
  {
   "cell_type": "code",
   "execution_count": 14,
   "metadata": {},
   "outputs": [
    {
     "data": {
      "image/png": "[encoded data removed]",
      "text/plain": [
       "<Figure size 1200x700 with 1 Axes>"
      ]
     },
     "metadata": {},
     "output_type": "display_data"
    }
   ],
   "source": [
    "difference = [x - y for x, y in zip(gmins, gmaxes)]\n",
    "\n",
    "plt.figure(figsize=(12, 7))\n",
    "plt.title('Porovnanie metód pri Rice-Golomb kódovaní')\n",
    "plt.xticks(range(len(glabels)), glabels)\n",
    "plt.errorbar(np.arange(len(gaverages)), gaverages, difference, fmt='o', lw=1, capsize=5, color='k')\n",
    "plt.plot(gaverages, color='k')\n",
    "\n",
    "for i, value in enumerate(gaverages):\n",
    "    plt.text(i, value+1, str(round(value, 2)), ha='right')\n",
    "\n",
    "plt.ylabel('Úspora miesta[%]')\n",
    "\n",
    "plt.show()"
   ]
  }
 ],
 "metadata": {
  "kernelspec": {
   "display_name": "Python 3 (ipykernel)",
   "language": "python",
   "name": "python3"
  },
  "language_info": {
   "codemirror_mode": {
    "name": "ipython",
    "version": 3
   },
   "file_extension": ".py",
   "mimetype": "text/x-python",
   "name": "python",
   "nbconvert_exporter": "python",
   "pygments_lexer": "ipython3",
   "version": "3.11.3"
  }
 },
 "nbformat": 4,
 "nbformat_minor": 4
}
